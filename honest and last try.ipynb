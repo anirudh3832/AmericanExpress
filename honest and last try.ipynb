{
 "cells": [
  {
   "cell_type": "code",
   "execution_count": 116,
   "metadata": {
    "ExecuteTime": {
     "end_time": "2019-10-02T19:47:33.147979Z",
     "start_time": "2019-10-02T19:47:33.142979Z"
    }
   },
   "outputs": [],
   "source": [
    "import numpy as np\n",
    "import pandas as pd"
   ]
  },
  {
   "cell_type": "code",
   "execution_count": 185,
   "metadata": {
    "ExecuteTime": {
     "end_time": "2019-10-03T14:45:26.769879Z",
     "start_time": "2019-10-03T14:45:26.110094Z"
    }
   },
   "outputs": [],
   "source": [
    "train=pd.read_csv('train.csv')\n",
    "campData=pd.read_csv('campData.csv')\n",
    "custDemo=pd.read_csv('custDemo.csv')\n",
    "custTransData=pd.read_csv('custTransData.csv')\n",
    "itemData=pd.read_csv('itemData.csv')\n",
    "coupMap=pd.read_csv('coupon_item_mapping.csv')\n",
    "test=pd.read_csv('test_QyjYwdj.csv')"
   ]
  },
  {
   "cell_type": "code",
   "execution_count": 186,
   "metadata": {
    "ExecuteTime": {
     "end_time": "2019-10-03T14:45:27.527926Z",
     "start_time": "2019-10-03T14:45:27.522927Z"
    }
   },
   "outputs": [],
   "source": [
    "#train.head()\n",
    "#train.isnull().sum()\n",
    "#campData.head()\n",
    "#campData.isnull().sum()\n",
    "#custDemo.head()\n",
    "#custDemo.isnull().sum()\n",
    "#custTransData.head()\n",
    "#custTransData.isnull().sum()\n",
    "#itemData.head()\n",
    "#itemData.isnull().sum()\n",
    "#test.head()\n",
    "#test.isnull().sum()\n",
    "#coupMap.head()\n",
    "#coupMap.isnull().sum()"
   ]
  },
  {
   "cell_type": "code",
   "execution_count": 187,
   "metadata": {
    "ExecuteTime": {
     "end_time": "2019-10-03T14:45:27.979423Z",
     "start_time": "2019-10-03T14:45:27.945432Z"
    },
    "scrolled": true
   },
   "outputs": [
    {
     "data": {
      "text/html": [
       "<div>\n",
       "<style scoped>\n",
       "    .dataframe tbody tr th:only-of-type {\n",
       "        vertical-align: middle;\n",
       "    }\n",
       "\n",
       "    .dataframe tbody tr th {\n",
       "        vertical-align: top;\n",
       "    }\n",
       "\n",
       "    .dataframe thead th {\n",
       "        text-align: right;\n",
       "    }\n",
       "</style>\n",
       "<table border=\"1\" class=\"dataframe\">\n",
       "  <thead>\n",
       "    <tr style=\"text-align: right;\">\n",
       "      <th></th>\n",
       "      <th>id</th>\n",
       "      <th>campaign_id</th>\n",
       "      <th>coupon_id</th>\n",
       "      <th>customer_id</th>\n",
       "    </tr>\n",
       "  </thead>\n",
       "  <tbody>\n",
       "    <tr>\n",
       "      <th>0</th>\n",
       "      <td>3</td>\n",
       "      <td>22</td>\n",
       "      <td>869</td>\n",
       "      <td>967</td>\n",
       "    </tr>\n",
       "    <tr>\n",
       "      <th>1</th>\n",
       "      <td>4</td>\n",
       "      <td>20</td>\n",
       "      <td>389</td>\n",
       "      <td>1566</td>\n",
       "    </tr>\n",
       "    <tr>\n",
       "      <th>2</th>\n",
       "      <td>5</td>\n",
       "      <td>22</td>\n",
       "      <td>981</td>\n",
       "      <td>510</td>\n",
       "    </tr>\n",
       "    <tr>\n",
       "      <th>3</th>\n",
       "      <td>8</td>\n",
       "      <td>25</td>\n",
       "      <td>1069</td>\n",
       "      <td>361</td>\n",
       "    </tr>\n",
       "    <tr>\n",
       "      <th>4</th>\n",
       "      <td>10</td>\n",
       "      <td>17</td>\n",
       "      <td>498</td>\n",
       "      <td>811</td>\n",
       "    </tr>\n",
       "    <tr>\n",
       "      <th>5</th>\n",
       "      <td>12</td>\n",
       "      <td>25</td>\n",
       "      <td>44</td>\n",
       "      <td>1498</td>\n",
       "    </tr>\n",
       "    <tr>\n",
       "      <th>6</th>\n",
       "      <td>13</td>\n",
       "      <td>18</td>\n",
       "      <td>713</td>\n",
       "      <td>682</td>\n",
       "    </tr>\n",
       "    <tr>\n",
       "      <th>7</th>\n",
       "      <td>16</td>\n",
       "      <td>22</td>\n",
       "      <td>1079</td>\n",
       "      <td>1186</td>\n",
       "    </tr>\n",
       "    <tr>\n",
       "      <th>8</th>\n",
       "      <td>18</td>\n",
       "      <td>18</td>\n",
       "      <td>199</td>\n",
       "      <td>1023</td>\n",
       "    </tr>\n",
       "    <tr>\n",
       "      <th>9</th>\n",
       "      <td>31</td>\n",
       "      <td>22</td>\n",
       "      <td>583</td>\n",
       "      <td>315</td>\n",
       "    </tr>\n",
       "    <tr>\n",
       "      <th>10</th>\n",
       "      <td>36</td>\n",
       "      <td>18</td>\n",
       "      <td>499</td>\n",
       "      <td>464</td>\n",
       "    </tr>\n",
       "    <tr>\n",
       "      <th>11</th>\n",
       "      <td>37</td>\n",
       "      <td>18</td>\n",
       "      <td>223</td>\n",
       "      <td>421</td>\n",
       "    </tr>\n",
       "    <tr>\n",
       "      <th>12</th>\n",
       "      <td>38</td>\n",
       "      <td>22</td>\n",
       "      <td>452</td>\n",
       "      <td>1323</td>\n",
       "    </tr>\n",
       "    <tr>\n",
       "      <th>13</th>\n",
       "      <td>40</td>\n",
       "      <td>18</td>\n",
       "      <td>592</td>\n",
       "      <td>527</td>\n",
       "    </tr>\n",
       "    <tr>\n",
       "      <th>14</th>\n",
       "      <td>41</td>\n",
       "      <td>20</td>\n",
       "      <td>836</td>\n",
       "      <td>744</td>\n",
       "    </tr>\n",
       "    <tr>\n",
       "      <th>15</th>\n",
       "      <td>44</td>\n",
       "      <td>18</td>\n",
       "      <td>418</td>\n",
       "      <td>1545</td>\n",
       "    </tr>\n",
       "    <tr>\n",
       "      <th>16</th>\n",
       "      <td>47</td>\n",
       "      <td>20</td>\n",
       "      <td>671</td>\n",
       "      <td>379</td>\n",
       "    </tr>\n",
       "    <tr>\n",
       "      <th>17</th>\n",
       "      <td>49</td>\n",
       "      <td>20</td>\n",
       "      <td>264</td>\n",
       "      <td>1082</td>\n",
       "    </tr>\n",
       "    <tr>\n",
       "      <th>18</th>\n",
       "      <td>50</td>\n",
       "      <td>18</td>\n",
       "      <td>577</td>\n",
       "      <td>232</td>\n",
       "    </tr>\n",
       "    <tr>\n",
       "      <th>19</th>\n",
       "      <td>53</td>\n",
       "      <td>18</td>\n",
       "      <td>423</td>\n",
       "      <td>569</td>\n",
       "    </tr>\n",
       "    <tr>\n",
       "      <th>20</th>\n",
       "      <td>57</td>\n",
       "      <td>18</td>\n",
       "      <td>640</td>\n",
       "      <td>769</td>\n",
       "    </tr>\n",
       "    <tr>\n",
       "      <th>21</th>\n",
       "      <td>59</td>\n",
       "      <td>18</td>\n",
       "      <td>633</td>\n",
       "      <td>942</td>\n",
       "    </tr>\n",
       "    <tr>\n",
       "      <th>22</th>\n",
       "      <td>60</td>\n",
       "      <td>25</td>\n",
       "      <td>647</td>\n",
       "      <td>565</td>\n",
       "    </tr>\n",
       "    <tr>\n",
       "      <th>23</th>\n",
       "      <td>64</td>\n",
       "      <td>21</td>\n",
       "      <td>958</td>\n",
       "      <td>922</td>\n",
       "    </tr>\n",
       "    <tr>\n",
       "      <th>24</th>\n",
       "      <td>67</td>\n",
       "      <td>18</td>\n",
       "      <td>182</td>\n",
       "      <td>554</td>\n",
       "    </tr>\n",
       "    <tr>\n",
       "      <th>25</th>\n",
       "      <td>68</td>\n",
       "      <td>18</td>\n",
       "      <td>541</td>\n",
       "      <td>1241</td>\n",
       "    </tr>\n",
       "    <tr>\n",
       "      <th>26</th>\n",
       "      <td>70</td>\n",
       "      <td>18</td>\n",
       "      <td>526</td>\n",
       "      <td>770</td>\n",
       "    </tr>\n",
       "    <tr>\n",
       "      <th>27</th>\n",
       "      <td>73</td>\n",
       "      <td>20</td>\n",
       "      <td>720</td>\n",
       "      <td>704</td>\n",
       "    </tr>\n",
       "    <tr>\n",
       "      <th>28</th>\n",
       "      <td>76</td>\n",
       "      <td>20</td>\n",
       "      <td>837</td>\n",
       "      <td>322</td>\n",
       "    </tr>\n",
       "    <tr>\n",
       "      <th>29</th>\n",
       "      <td>78</td>\n",
       "      <td>18</td>\n",
       "      <td>497</td>\n",
       "      <td>1134</td>\n",
       "    </tr>\n",
       "    <tr>\n",
       "      <th>...</th>\n",
       "      <td>...</td>\n",
       "      <td>...</td>\n",
       "      <td>...</td>\n",
       "      <td>...</td>\n",
       "    </tr>\n",
       "    <tr>\n",
       "      <th>50196</th>\n",
       "      <td>128517</td>\n",
       "      <td>23</td>\n",
       "      <td>618</td>\n",
       "      <td>46</td>\n",
       "    </tr>\n",
       "    <tr>\n",
       "      <th>50197</th>\n",
       "      <td>128519</td>\n",
       "      <td>25</td>\n",
       "      <td>1109</td>\n",
       "      <td>1475</td>\n",
       "    </tr>\n",
       "    <tr>\n",
       "      <th>50198</th>\n",
       "      <td>128522</td>\n",
       "      <td>20</td>\n",
       "      <td>833</td>\n",
       "      <td>769</td>\n",
       "    </tr>\n",
       "    <tr>\n",
       "      <th>50199</th>\n",
       "      <td>128524</td>\n",
       "      <td>17</td>\n",
       "      <td>906</td>\n",
       "      <td>162</td>\n",
       "    </tr>\n",
       "    <tr>\n",
       "      <th>50200</th>\n",
       "      <td>128528</td>\n",
       "      <td>17</td>\n",
       "      <td>697</td>\n",
       "      <td>737</td>\n",
       "    </tr>\n",
       "    <tr>\n",
       "      <th>50201</th>\n",
       "      <td>128529</td>\n",
       "      <td>20</td>\n",
       "      <td>671</td>\n",
       "      <td>60</td>\n",
       "    </tr>\n",
       "    <tr>\n",
       "      <th>50202</th>\n",
       "      <td>128530</td>\n",
       "      <td>25</td>\n",
       "      <td>736</td>\n",
       "      <td>385</td>\n",
       "    </tr>\n",
       "    <tr>\n",
       "      <th>50203</th>\n",
       "      <td>128532</td>\n",
       "      <td>22</td>\n",
       "      <td>929</td>\n",
       "      <td>1017</td>\n",
       "    </tr>\n",
       "    <tr>\n",
       "      <th>50204</th>\n",
       "      <td>128533</td>\n",
       "      <td>22</td>\n",
       "      <td>432</td>\n",
       "      <td>954</td>\n",
       "    </tr>\n",
       "    <tr>\n",
       "      <th>50205</th>\n",
       "      <td>128534</td>\n",
       "      <td>20</td>\n",
       "      <td>840</td>\n",
       "      <td>1400</td>\n",
       "    </tr>\n",
       "    <tr>\n",
       "      <th>50206</th>\n",
       "      <td>128535</td>\n",
       "      <td>18</td>\n",
       "      <td>417</td>\n",
       "      <td>696</td>\n",
       "    </tr>\n",
       "    <tr>\n",
       "      <th>50207</th>\n",
       "      <td>128536</td>\n",
       "      <td>22</td>\n",
       "      <td>432</td>\n",
       "      <td>1024</td>\n",
       "    </tr>\n",
       "    <tr>\n",
       "      <th>50208</th>\n",
       "      <td>128541</td>\n",
       "      <td>18</td>\n",
       "      <td>633</td>\n",
       "      <td>15</td>\n",
       "    </tr>\n",
       "    <tr>\n",
       "      <th>50209</th>\n",
       "      <td>128552</td>\n",
       "      <td>18</td>\n",
       "      <td>1024</td>\n",
       "      <td>277</td>\n",
       "    </tr>\n",
       "    <tr>\n",
       "      <th>50210</th>\n",
       "      <td>128553</td>\n",
       "      <td>16</td>\n",
       "      <td>999</td>\n",
       "      <td>627</td>\n",
       "    </tr>\n",
       "    <tr>\n",
       "      <th>50211</th>\n",
       "      <td>128554</td>\n",
       "      <td>18</td>\n",
       "      <td>463</td>\n",
       "      <td>1194</td>\n",
       "    </tr>\n",
       "    <tr>\n",
       "      <th>50212</th>\n",
       "      <td>128561</td>\n",
       "      <td>18</td>\n",
       "      <td>765</td>\n",
       "      <td>699</td>\n",
       "    </tr>\n",
       "    <tr>\n",
       "      <th>50213</th>\n",
       "      <td>128564</td>\n",
       "      <td>18</td>\n",
       "      <td>548</td>\n",
       "      <td>931</td>\n",
       "    </tr>\n",
       "    <tr>\n",
       "      <th>50214</th>\n",
       "      <td>128567</td>\n",
       "      <td>25</td>\n",
       "      <td>522</td>\n",
       "      <td>1566</td>\n",
       "    </tr>\n",
       "    <tr>\n",
       "      <th>50215</th>\n",
       "      <td>128571</td>\n",
       "      <td>18</td>\n",
       "      <td>239</td>\n",
       "      <td>811</td>\n",
       "    </tr>\n",
       "    <tr>\n",
       "      <th>50216</th>\n",
       "      <td>128572</td>\n",
       "      <td>18</td>\n",
       "      <td>765</td>\n",
       "      <td>289</td>\n",
       "    </tr>\n",
       "    <tr>\n",
       "      <th>50217</th>\n",
       "      <td>128573</td>\n",
       "      <td>18</td>\n",
       "      <td>892</td>\n",
       "      <td>215</td>\n",
       "    </tr>\n",
       "    <tr>\n",
       "      <th>50218</th>\n",
       "      <td>128574</td>\n",
       "      <td>20</td>\n",
       "      <td>833</td>\n",
       "      <td>1353</td>\n",
       "    </tr>\n",
       "    <tr>\n",
       "      <th>50219</th>\n",
       "      <td>128578</td>\n",
       "      <td>18</td>\n",
       "      <td>245</td>\n",
       "      <td>351</td>\n",
       "    </tr>\n",
       "    <tr>\n",
       "      <th>50220</th>\n",
       "      <td>128583</td>\n",
       "      <td>22</td>\n",
       "      <td>869</td>\n",
       "      <td>363</td>\n",
       "    </tr>\n",
       "    <tr>\n",
       "      <th>50221</th>\n",
       "      <td>128584</td>\n",
       "      <td>20</td>\n",
       "      <td>843</td>\n",
       "      <td>501</td>\n",
       "    </tr>\n",
       "    <tr>\n",
       "      <th>50222</th>\n",
       "      <td>128588</td>\n",
       "      <td>25</td>\n",
       "      <td>415</td>\n",
       "      <td>481</td>\n",
       "    </tr>\n",
       "    <tr>\n",
       "      <th>50223</th>\n",
       "      <td>128591</td>\n",
       "      <td>25</td>\n",
       "      <td>596</td>\n",
       "      <td>1336</td>\n",
       "    </tr>\n",
       "    <tr>\n",
       "      <th>50224</th>\n",
       "      <td>128593</td>\n",
       "      <td>22</td>\n",
       "      <td>518</td>\n",
       "      <td>748</td>\n",
       "    </tr>\n",
       "    <tr>\n",
       "      <th>50225</th>\n",
       "      <td>128594</td>\n",
       "      <td>18</td>\n",
       "      <td>988</td>\n",
       "      <td>851</td>\n",
       "    </tr>\n",
       "  </tbody>\n",
       "</table>\n",
       "<p>50226 rows × 4 columns</p>\n",
       "</div>"
      ],
      "text/plain": [
       "           id  campaign_id  coupon_id  customer_id\n",
       "0           3           22        869          967\n",
       "1           4           20        389         1566\n",
       "2           5           22        981          510\n",
       "3           8           25       1069          361\n",
       "4          10           17        498          811\n",
       "5          12           25         44         1498\n",
       "6          13           18        713          682\n",
       "7          16           22       1079         1186\n",
       "8          18           18        199         1023\n",
       "9          31           22        583          315\n",
       "10         36           18        499          464\n",
       "11         37           18        223          421\n",
       "12         38           22        452         1323\n",
       "13         40           18        592          527\n",
       "14         41           20        836          744\n",
       "15         44           18        418         1545\n",
       "16         47           20        671          379\n",
       "17         49           20        264         1082\n",
       "18         50           18        577          232\n",
       "19         53           18        423          569\n",
       "20         57           18        640          769\n",
       "21         59           18        633          942\n",
       "22         60           25        647          565\n",
       "23         64           21        958          922\n",
       "24         67           18        182          554\n",
       "25         68           18        541         1241\n",
       "26         70           18        526          770\n",
       "27         73           20        720          704\n",
       "28         76           20        837          322\n",
       "29         78           18        497         1134\n",
       "...       ...          ...        ...          ...\n",
       "50196  128517           23        618           46\n",
       "50197  128519           25       1109         1475\n",
       "50198  128522           20        833          769\n",
       "50199  128524           17        906          162\n",
       "50200  128528           17        697          737\n",
       "50201  128529           20        671           60\n",
       "50202  128530           25        736          385\n",
       "50203  128532           22        929         1017\n",
       "50204  128533           22        432          954\n",
       "50205  128534           20        840         1400\n",
       "50206  128535           18        417          696\n",
       "50207  128536           22        432         1024\n",
       "50208  128541           18        633           15\n",
       "50209  128552           18       1024          277\n",
       "50210  128553           16        999          627\n",
       "50211  128554           18        463         1194\n",
       "50212  128561           18        765          699\n",
       "50213  128564           18        548          931\n",
       "50214  128567           25        522         1566\n",
       "50215  128571           18        239          811\n",
       "50216  128572           18        765          289\n",
       "50217  128573           18        892          215\n",
       "50218  128574           20        833         1353\n",
       "50219  128578           18        245          351\n",
       "50220  128583           22        869          363\n",
       "50221  128584           20        843          501\n",
       "50222  128588           25        415          481\n",
       "50223  128591           25        596         1336\n",
       "50224  128593           22        518          748\n",
       "50225  128594           18        988          851\n",
       "\n",
       "[50226 rows x 4 columns]"
      ]
     },
     "execution_count": 187,
     "metadata": {},
     "output_type": "execute_result"
    }
   ],
   "source": [
    "test"
   ]
  },
  {
   "cell_type": "code",
   "execution_count": 188,
   "metadata": {
    "ExecuteTime": {
     "end_time": "2019-10-03T14:45:29.512850Z",
     "start_time": "2019-10-03T14:45:29.472864Z"
    }
   },
   "outputs": [],
   "source": [
    "campData.drop(columns=['Unnamed: 0'],inplace=True)\n",
    "custDemo.drop(columns=['Unnamed: 0'],inplace=True)\n",
    "custTransData.drop(columns=['Unnamed: 0'],inplace=True)\n",
    "itemData.drop(columns=['Unnamed: 0'],inplace=True)"
   ]
  },
  {
   "cell_type": "code",
   "execution_count": 189,
   "metadata": {
    "ExecuteTime": {
     "end_time": "2019-10-03T14:45:32.926335Z",
     "start_time": "2019-10-03T14:45:32.917337Z"
    }
   },
   "outputs": [],
   "source": [
    "test['type']='test'\n",
    "train['type']='train'"
   ]
  },
  {
   "cell_type": "code",
   "execution_count": 190,
   "metadata": {
    "ExecuteTime": {
     "end_time": "2019-10-03T14:45:34.922883Z",
     "start_time": "2019-10-03T14:45:33.459336Z"
    }
   },
   "outputs": [
    {
     "name": "stderr",
     "output_type": "stream",
     "text": [
      "C:\\Users\\haricharan\\Anaconda\\lib\\site-packages\\ipykernel_launcher.py:1: FutureWarning: Sorting because non-concatenation axis is not aligned. A future version\n",
      "of pandas will change to not sort by default.\n",
      "\n",
      "To accept the future behavior, pass 'sort=False'.\n",
      "\n",
      "To retain the current behavior and silence the warning, pass 'sort=True'.\n",
      "\n",
      "  \"\"\"Entry point for launching an IPython kernel.\n"
     ]
    }
   ],
   "source": [
    "main=pd.concat([train,test])\n",
    "main.to_csv('main.csv')"
   ]
  },
  {
   "cell_type": "code",
   "execution_count": 191,
   "metadata": {
    "ExecuteTime": {
     "end_time": "2019-10-03T14:45:34.938858Z",
     "start_time": "2019-10-03T14:45:34.925862Z"
    }
   },
   "outputs": [
    {
     "name": "stdout",
     "output_type": "stream",
     "text": [
      "(50226, 5)\n",
      "(78369, 6)\n",
      "(128595, 6)\n"
     ]
    }
   ],
   "source": [
    "print(test.shape)\n",
    "print(train.shape)\n",
    "print(main.shape)"
   ]
  },
  {
   "cell_type": "code",
   "execution_count": 192,
   "metadata": {
    "ExecuteTime": {
     "end_time": "2019-10-03T14:45:35.154788Z",
     "start_time": "2019-10-03T14:45:35.030844Z"
    }
   },
   "outputs": [],
   "source": [
    "sub=pd.merge(coupMap,itemData,how='inner',on='item_id')"
   ]
  },
  {
   "cell_type": "code",
   "execution_count": 193,
   "metadata": {
    "ExecuteTime": {
     "end_time": "2019-10-03T14:45:36.091679Z",
     "start_time": "2019-10-03T14:45:36.079686Z"
    }
   },
   "outputs": [
    {
     "data": {
      "text/html": [
       "<div>\n",
       "<style scoped>\n",
       "    .dataframe tbody tr th:only-of-type {\n",
       "        vertical-align: middle;\n",
       "    }\n",
       "\n",
       "    .dataframe tbody tr th {\n",
       "        vertical-align: top;\n",
       "    }\n",
       "\n",
       "    .dataframe thead th {\n",
       "        text-align: right;\n",
       "    }\n",
       "</style>\n",
       "<table border=\"1\" class=\"dataframe\">\n",
       "  <thead>\n",
       "    <tr style=\"text-align: right;\">\n",
       "      <th></th>\n",
       "      <th>coupon_id</th>\n",
       "      <th>item_id</th>\n",
       "      <th>brand_type</th>\n",
       "      <th>category</th>\n",
       "    </tr>\n",
       "  </thead>\n",
       "  <tbody>\n",
       "    <tr>\n",
       "      <th>0</th>\n",
       "      <td>105</td>\n",
       "      <td>37</td>\n",
       "      <td>0.151541</td>\n",
       "      <td>0.438096</td>\n",
       "    </tr>\n",
       "    <tr>\n",
       "      <th>1</th>\n",
       "      <td>6</td>\n",
       "      <td>37</td>\n",
       "      <td>0.151541</td>\n",
       "      <td>0.438096</td>\n",
       "    </tr>\n",
       "    <tr>\n",
       "      <th>2</th>\n",
       "      <td>22</td>\n",
       "      <td>37</td>\n",
       "      <td>0.151541</td>\n",
       "      <td>0.438096</td>\n",
       "    </tr>\n",
       "    <tr>\n",
       "      <th>3</th>\n",
       "      <td>31</td>\n",
       "      <td>37</td>\n",
       "      <td>0.151541</td>\n",
       "      <td>0.438096</td>\n",
       "    </tr>\n",
       "    <tr>\n",
       "      <th>4</th>\n",
       "      <td>107</td>\n",
       "      <td>75</td>\n",
       "      <td>0.151541</td>\n",
       "      <td>0.438096</td>\n",
       "    </tr>\n",
       "  </tbody>\n",
       "</table>\n",
       "</div>"
      ],
      "text/plain": [
       "   coupon_id  item_id  brand_type  category\n",
       "0        105       37    0.151541  0.438096\n",
       "1          6       37    0.151541  0.438096\n",
       "2         22       37    0.151541  0.438096\n",
       "3         31       37    0.151541  0.438096\n",
       "4        107       75    0.151541  0.438096"
      ]
     },
     "execution_count": 193,
     "metadata": {},
     "output_type": "execute_result"
    }
   ],
   "source": [
    "sub.head()"
   ]
  },
  {
   "cell_type": "code",
   "execution_count": 194,
   "metadata": {
    "ExecuteTime": {
     "end_time": "2019-10-03T14:45:39.797116Z",
     "start_time": "2019-10-03T14:45:39.781123Z"
    }
   },
   "outputs": [
    {
     "data": {
      "text/html": [
       "<div>\n",
       "<style scoped>\n",
       "    .dataframe tbody tr th:only-of-type {\n",
       "        vertical-align: middle;\n",
       "    }\n",
       "\n",
       "    .dataframe tbody tr th {\n",
       "        vertical-align: top;\n",
       "    }\n",
       "\n",
       "    .dataframe thead th {\n",
       "        text-align: right;\n",
       "    }\n",
       "</style>\n",
       "<table border=\"1\" class=\"dataframe\">\n",
       "  <thead>\n",
       "    <tr style=\"text-align: right;\">\n",
       "      <th></th>\n",
       "      <th>customer_id</th>\n",
       "      <th>item_id</th>\n",
       "      <th>coupon_discount</th>\n",
       "    </tr>\n",
       "  </thead>\n",
       "  <tbody>\n",
       "    <tr>\n",
       "      <th>0</th>\n",
       "      <td>1</td>\n",
       "      <td>4315</td>\n",
       "      <td>0.0</td>\n",
       "    </tr>\n",
       "    <tr>\n",
       "      <th>1</th>\n",
       "      <td>1</td>\n",
       "      <td>4577</td>\n",
       "      <td>0.0</td>\n",
       "    </tr>\n",
       "    <tr>\n",
       "      <th>2</th>\n",
       "      <td>1</td>\n",
       "      <td>4796</td>\n",
       "      <td>0.0</td>\n",
       "    </tr>\n",
       "    <tr>\n",
       "      <th>3</th>\n",
       "      <td>1</td>\n",
       "      <td>4953</td>\n",
       "      <td>0.0</td>\n",
       "    </tr>\n",
       "    <tr>\n",
       "      <th>4</th>\n",
       "      <td>1</td>\n",
       "      <td>5126</td>\n",
       "      <td>0.0</td>\n",
       "    </tr>\n",
       "  </tbody>\n",
       "</table>\n",
       "</div>"
      ],
      "text/plain": [
       "   customer_id  item_id  coupon_discount\n",
       "0            1     4315              0.0\n",
       "1            1     4577              0.0\n",
       "2            1     4796              0.0\n",
       "3            1     4953              0.0\n",
       "4            1     5126              0.0"
      ]
     },
     "execution_count": 194,
     "metadata": {},
     "output_type": "execute_result"
    }
   ],
   "source": [
    "custTransData.head()"
   ]
  },
  {
   "cell_type": "code",
   "execution_count": 195,
   "metadata": {
    "ExecuteTime": {
     "end_time": "2019-10-03T14:45:42.332635Z",
     "start_time": "2019-10-03T14:45:42.007740Z"
    }
   },
   "outputs": [],
   "source": [
    "sub=pd.merge(sub,custTransData,how='inner',on='item_id')"
   ]
  },
  {
   "cell_type": "code",
   "execution_count": 196,
   "metadata": {
    "ExecuteTime": {
     "end_time": "2019-10-03T14:48:24.504465Z",
     "start_time": "2019-10-03T14:48:24.189822Z"
    }
   },
   "outputs": [],
   "source": [
    "sub2=pd.merge(main,custDemo,how='left',left_on='customer_id', right_on='customer_id')"
   ]
  },
  {
   "cell_type": "code",
   "execution_count": 197,
   "metadata": {
    "ExecuteTime": {
     "end_time": "2019-10-03T15:13:17.662718Z",
     "start_time": "2019-10-03T14:49:04.632874Z"
    }
   },
   "outputs": [],
   "source": [
    "sub2=pd.merge(sub2,sub,how='left',left_on='customer_id', right_on='customer_id')"
   ]
  },
  {
   "cell_type": "code",
   "execution_count": 198,
   "metadata": {
    "ExecuteTime": {
     "end_time": "2019-10-03T15:23:29.681522Z",
     "start_time": "2019-10-03T15:23:29.112633Z"
    }
   },
   "outputs": [
    {
     "data": {
      "text/plain": [
       "(124818695, 12)"
      ]
     },
     "execution_count": 198,
     "metadata": {},
     "output_type": "execute_result"
    }
   ],
   "source": [
    "sub2.shape"
   ]
  },
  {
   "cell_type": "code",
   "execution_count": 127,
   "metadata": {
    "ExecuteTime": {
     "end_time": "2019-10-02T19:47:37.052731Z",
     "start_time": "2019-10-02T19:47:36.800340Z"
    }
   },
   "outputs": [],
   "source": [
    "sub4=pd.merge(sub3,campData,how='inner',on='campaign_id')"
   ]
  },
  {
   "cell_type": "code",
   "execution_count": 128,
   "metadata": {
    "ExecuteTime": {
     "end_time": "2019-10-02T19:47:39.074800Z",
     "start_time": "2019-10-02T19:47:37.057659Z"
    }
   },
   "outputs": [],
   "source": [
    "sub5=pd.merge(sub4,sub,how='inner',on='coupon_id')"
   ]
  },
  {
   "cell_type": "code",
   "execution_count": 129,
   "metadata": {
    "ExecuteTime": {
     "end_time": "2019-10-02T19:47:39.089799Z",
     "start_time": "2019-10-02T19:47:39.078800Z"
    }
   },
   "outputs": [
    {
     "data": {
      "text/plain": [
       "(7221659, 14)"
      ]
     },
     "execution_count": 129,
     "metadata": {},
     "output_type": "execute_result"
    }
   ],
   "source": [
    "sub5.shape"
   ]
  },
  {
   "cell_type": "code",
   "execution_count": 130,
   "metadata": {
    "ExecuteTime": {
     "end_time": "2019-10-02T19:47:41.178150Z",
     "start_time": "2019-10-02T19:47:39.093796Z"
    }
   },
   "outputs": [],
   "source": [
    "sub5.drop(columns=['item_id','coupon_id','campaign_id','customer_id'],inplace=True)"
   ]
  },
  {
   "cell_type": "code",
   "execution_count": 131,
   "metadata": {
    "ExecuteTime": {
     "end_time": "2019-10-02T19:47:41.194147Z",
     "start_time": "2019-10-02T19:47:41.181155Z"
    }
   },
   "outputs": [
    {
     "data": {
      "text/plain": [
       "Index(['id', 'redemption_status', 'type', 'label_x', 'coupon_discount',\n",
       "       'campaign_type', 'no_of_days', 'label_y', 'brand_type', 'category'],\n",
       "      dtype='object')"
      ]
     },
     "execution_count": 131,
     "metadata": {},
     "output_type": "execute_result"
    }
   ],
   "source": [
    "sub5.columns"
   ]
  },
  {
   "cell_type": "code",
   "execution_count": 132,
   "metadata": {
    "ExecuteTime": {
     "end_time": "2019-10-02T19:47:43.363074Z",
     "start_time": "2019-10-02T19:47:41.200144Z"
    }
   },
   "outputs": [],
   "source": [
    "train=sub5[sub5['type']=='train']\n",
    "test=sub5[sub5['type']=='test']"
   ]
  },
  {
   "cell_type": "code",
   "execution_count": 134,
   "metadata": {
    "ExecuteTime": {
     "end_time": "2019-10-02T19:48:12.617079Z",
     "start_time": "2019-10-02T19:48:11.138559Z"
    }
   },
   "outputs": [],
   "source": [
    "train=train.groupby(by=['id']).mean()\n",
    "test=test.groupby(by=['id']).mean()"
   ]
  },
  {
   "cell_type": "code",
   "execution_count": 135,
   "metadata": {
    "ExecuteTime": {
     "end_time": "2019-10-02T19:48:12.636072Z",
     "start_time": "2019-10-02T19:48:12.620077Z"
    }
   },
   "outputs": [],
   "source": [
    "train.reset_index(inplace=True)\n",
    "test.reset_index(inplace=True)"
   ]
  },
  {
   "cell_type": "code",
   "execution_count": 137,
   "metadata": {
    "ExecuteTime": {
     "end_time": "2019-10-02T19:48:17.978812Z",
     "start_time": "2019-10-02T19:48:17.969815Z"
    }
   },
   "outputs": [],
   "source": [
    "train['redemption_status']=train['redemption_status'].astype(int)"
   ]
  },
  {
   "cell_type": "code",
   "execution_count": 140,
   "metadata": {
    "ExecuteTime": {
     "end_time": "2019-10-02T19:49:50.938878Z",
     "start_time": "2019-10-02T19:49:50.922868Z"
    }
   },
   "outputs": [],
   "source": [
    "X=train.drop('redemption_status',axis=1)\n",
    "y=pd.DataFrame(train['redemption_status'])"
   ]
  },
  {
   "cell_type": "code",
   "execution_count": 142,
   "metadata": {
    "ExecuteTime": {
     "end_time": "2019-10-02T19:50:49.742583Z",
     "start_time": "2019-10-02T19:50:49.736568Z"
    }
   },
   "outputs": [],
   "source": [
    "from sklearn.ensemble import RandomForestClassifier"
   ]
  },
  {
   "cell_type": "code",
   "execution_count": 143,
   "metadata": {
    "ExecuteTime": {
     "end_time": "2019-10-02T19:51:14.124165Z",
     "start_time": "2019-10-02T19:51:14.119174Z"
    }
   },
   "outputs": [],
   "source": [
    "model=RandomForestClassifier(n_estimators=250,n_jobs=-1)"
   ]
  },
  {
   "cell_type": "code",
   "execution_count": 144,
   "metadata": {
    "ExecuteTime": {
     "end_time": "2019-10-02T19:51:38.513071Z",
     "start_time": "2019-10-02T19:51:34.256904Z"
    }
   },
   "outputs": [
    {
     "name": "stderr",
     "output_type": "stream",
     "text": [
      "C:\\Users\\haricharan\\Anaconda\\lib\\site-packages\\ipykernel_launcher.py:1: DataConversionWarning: A column-vector y was passed when a 1d array was expected. Please change the shape of y to (n_samples,), for example using ravel().\n",
      "  \"\"\"Entry point for launching an IPython kernel.\n"
     ]
    },
    {
     "data": {
      "text/plain": [
       "RandomForestClassifier(bootstrap=True, class_weight=None, criterion='gini',\n",
       "            max_depth=None, max_features='auto', max_leaf_nodes=None,\n",
       "            min_impurity_decrease=0.0, min_impurity_split=None,\n",
       "            min_samples_leaf=1, min_samples_split=2,\n",
       "            min_weight_fraction_leaf=0.0, n_estimators=250, n_jobs=-1,\n",
       "            oob_score=False, random_state=None, verbose=0,\n",
       "            warm_start=False)"
      ]
     },
     "execution_count": 144,
     "metadata": {},
     "output_type": "execute_result"
    }
   ],
   "source": [
    "model.fit(X,y)"
   ]
  },
  {
   "cell_type": "code",
   "execution_count": 147,
   "metadata": {
    "ExecuteTime": {
     "end_time": "2019-10-02T19:52:20.136039Z",
     "start_time": "2019-10-02T19:52:20.123043Z"
    }
   },
   "outputs": [],
   "source": [
    "test.drop(columns=['redemption_status'],inplace=True)"
   ]
  },
  {
   "cell_type": "code",
   "execution_count": 151,
   "metadata": {
    "ExecuteTime": {
     "end_time": "2019-10-02T19:54:39.721955Z",
     "start_time": "2019-10-02T19:54:39.165137Z"
    }
   },
   "outputs": [],
   "source": [
    "test_pred=model.predict(test)"
   ]
  },
  {
   "cell_type": "code",
   "execution_count": 157,
   "metadata": {
    "ExecuteTime": {
     "end_time": "2019-10-02T19:56:52.256726Z",
     "start_time": "2019-10-02T19:56:52.108761Z"
    }
   },
   "outputs": [],
   "source": [
    "test_id = test['id']\n",
    "df = pd.DataFrame({'id':test_id,'redemption_status':test_pred})\n"
   ]
  },
  {
   "cell_type": "code",
   "execution_count": 171,
   "metadata": {
    "ExecuteTime": {
     "end_time": "2019-10-02T20:04:32.221024Z",
     "start_time": "2019-10-02T20:04:32.077051Z"
    }
   },
   "outputs": [],
   "source": [
    "df['redemption_status']=df['redemption_status'].astype('int64')\n",
    "df.to_csv('submission-rf.csv',index=False)"
   ]
  },
  {
   "cell_type": "code",
   "execution_count": 161,
   "metadata": {
    "ExecuteTime": {
     "end_time": "2019-10-02T19:57:56.798167Z",
     "start_time": "2019-10-02T19:57:56.791159Z"
    }
   },
   "outputs": [
    {
     "data": {
      "text/plain": [
       "(30939, 8)"
      ]
     },
     "execution_count": 161,
     "metadata": {},
     "output_type": "execute_result"
    }
   ],
   "source": [
    "test.shape"
   ]
  },
  {
   "cell_type": "code",
   "execution_count": 172,
   "metadata": {
    "ExecuteTime": {
     "end_time": "2019-10-02T20:05:51.690985Z",
     "start_time": "2019-10-02T20:05:51.677987Z"
    }
   },
   "outputs": [
    {
     "data": {
      "text/plain": [
       "id                   0\n",
       "redemption_status    0\n",
       "dtype: int64"
      ]
     },
     "execution_count": 172,
     "metadata": {},
     "output_type": "execute_result"
    }
   ],
   "source": [
    "df.isnull().sum()"
   ]
  },
  {
   "cell_type": "code",
   "execution_count": 173,
   "metadata": {
    "ExecuteTime": {
     "end_time": "2019-10-02T20:05:58.609757Z",
     "start_time": "2019-10-02T20:05:58.598760Z"
    }
   },
   "outputs": [
    {
     "data": {
      "text/plain": [
       "id                   int64\n",
       "redemption_status    int64\n",
       "dtype: object"
      ]
     },
     "execution_count": 173,
     "metadata": {},
     "output_type": "execute_result"
    }
   ],
   "source": [
    "df.dtypes"
   ]
  },
  {
   "cell_type": "code",
   "execution_count": 174,
   "metadata": {
    "ExecuteTime": {
     "end_time": "2019-10-03T14:39:43.310803Z",
     "start_time": "2019-10-03T14:39:43.122641Z"
    }
   },
   "outputs": [
    {
     "data": {
      "text/plain": [
       "11"
      ]
     },
     "execution_count": 174,
     "metadata": {},
     "output_type": "execute_result"
    }
   ],
   "source": []
  },
  {
   "cell_type": "code",
   "execution_count": null,
   "metadata": {},
   "outputs": [],
   "source": []
  }
 ],
 "metadata": {
  "kernelspec": {
   "display_name": "Python 3",
   "language": "python",
   "name": "python3"
  },
  "language_info": {
   "codemirror_mode": {
    "name": "ipython",
    "version": 3
   },
   "file_extension": ".py",
   "mimetype": "text/x-python",
   "name": "python",
   "nbconvert_exporter": "python",
   "pygments_lexer": "ipython3",
   "version": "3.7.3"
  },
  "toc": {
   "base_numbering": 1,
   "nav_menu": {},
   "number_sections": false,
   "sideBar": true,
   "skip_h1_title": true,
   "title_cell": "Table of Contents",
   "title_sidebar": "Contents",
   "toc_cell": false,
   "toc_position": {},
   "toc_section_display": true,
   "toc_window_display": false
  }
 },
 "nbformat": 4,
 "nbformat_minor": 2
}
